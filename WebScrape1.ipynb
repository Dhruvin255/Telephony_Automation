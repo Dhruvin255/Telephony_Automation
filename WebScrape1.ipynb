{
 "cells": [
  {
   "cell_type": "code",
   "execution_count": 1,
   "id": "92de85be-5a1d-4f9c-be08-b72989e43d2b",
   "metadata": {},
   "outputs": [],
   "source": [
    "import pandas as pd"
   ]
  },
  {
   "cell_type": "code",
   "execution_count": 2,
   "id": "c6cdc9e1-1453-4def-b683-29e74f5021fc",
   "metadata": {
    "scrolled": true
   },
   "outputs": [
    {
     "name": "stdout",
     "output_type": "stream",
     "text": [
      "Requirement already satisfied: selenium in c:\\users\\imarticus\\anaconda3\\lib\\site-packages (4.18.1)\n",
      "Requirement already satisfied: urllib3<3,>=1.26 in c:\\users\\imarticus\\anaconda3\\lib\\site-packages (from urllib3[socks]<3,>=1.26->selenium) (2.0.7)\n",
      "Requirement already satisfied: trio~=0.17 in c:\\users\\imarticus\\anaconda3\\lib\\site-packages (from selenium) (0.25.0)\n",
      "Requirement already satisfied: trio-websocket~=0.9 in c:\\users\\imarticus\\anaconda3\\lib\\site-packages (from selenium) (0.11.1)\n",
      "Requirement already satisfied: certifi>=2021.10.8 in c:\\users\\imarticus\\anaconda3\\lib\\site-packages (from selenium) (2024.2.2)\n",
      "Requirement already satisfied: typing_extensions>=4.9.0 in c:\\users\\imarticus\\anaconda3\\lib\\site-packages (from selenium) (4.9.0)\n",
      "Requirement already satisfied: attrs>=23.2.0 in c:\\users\\imarticus\\anaconda3\\lib\\site-packages (from trio~=0.17->selenium) (23.2.0)\n",
      "Requirement already satisfied: sortedcontainers in c:\\users\\imarticus\\anaconda3\\lib\\site-packages (from trio~=0.17->selenium) (2.4.0)\n",
      "Requirement already satisfied: idna in c:\\users\\imarticus\\anaconda3\\lib\\site-packages (from trio~=0.17->selenium) (3.4)\n",
      "Requirement already satisfied: outcome in c:\\users\\imarticus\\anaconda3\\lib\\site-packages (from trio~=0.17->selenium) (1.3.0.post0)\n",
      "Requirement already satisfied: sniffio>=1.3.0 in c:\\users\\imarticus\\anaconda3\\lib\\site-packages (from trio~=0.17->selenium) (1.3.0)\n",
      "Requirement already satisfied: cffi>=1.14 in c:\\users\\imarticus\\anaconda3\\lib\\site-packages (from trio~=0.17->selenium) (1.16.0)\n",
      "Requirement already satisfied: wsproto>=0.14 in c:\\users\\imarticus\\anaconda3\\lib\\site-packages (from trio-websocket~=0.9->selenium) (1.2.0)\n",
      "Requirement already satisfied: pysocks!=1.5.7,<2.0,>=1.5.6 in c:\\users\\imarticus\\anaconda3\\lib\\site-packages (from urllib3[socks]<3,>=1.26->selenium) (1.7.1)\n",
      "Requirement already satisfied: pycparser in c:\\users\\imarticus\\anaconda3\\lib\\site-packages (from cffi>=1.14->trio~=0.17->selenium) (2.21)\n",
      "Requirement already satisfied: h11<1,>=0.9.0 in c:\\users\\imarticus\\anaconda3\\lib\\site-packages (from wsproto>=0.14->trio-websocket~=0.9->selenium) (0.14.0)\n",
      "Note: you may need to restart the kernel to use updated packages.\n"
     ]
    }
   ],
   "source": [
    "pip install selenium"
   ]
  },
  {
   "cell_type": "code",
   "execution_count": 3,
   "id": "90d175a8-f068-4702-ada5-8e394a1de7a6",
   "metadata": {},
   "outputs": [
    {
     "name": "stdout",
     "output_type": "stream",
     "text": [
      "Requirement already satisfied: gspread in c:\\users\\imarticus\\anaconda3\\lib\\site-packages (6.0.2)\n",
      "Requirement already satisfied: oauth2client in c:\\users\\imarticus\\anaconda3\\lib\\site-packages (4.1.3)\n",
      "Requirement already satisfied: google-auth>=1.12.0 in c:\\users\\imarticus\\anaconda3\\lib\\site-packages (from gspread) (2.29.0)\n",
      "Requirement already satisfied: google-auth-oauthlib>=0.4.1 in c:\\users\\imarticus\\anaconda3\\lib\\site-packages (from gspread) (1.2.0)\n",
      "Requirement already satisfied: StrEnum==0.4.15 in c:\\users\\imarticus\\anaconda3\\lib\\site-packages (from gspread) (0.4.15)\n",
      "Requirement already satisfied: httplib2>=0.9.1 in c:\\users\\imarticus\\anaconda3\\lib\\site-packages (from oauth2client) (0.22.0)\n",
      "Requirement already satisfied: pyasn1>=0.1.7 in c:\\users\\imarticus\\anaconda3\\lib\\site-packages (from oauth2client) (0.4.8)\n",
      "Requirement already satisfied: pyasn1-modules>=0.0.5 in c:\\users\\imarticus\\anaconda3\\lib\\site-packages (from oauth2client) (0.2.8)\n",
      "Requirement already satisfied: rsa>=3.1.4 in c:\\users\\imarticus\\anaconda3\\lib\\site-packages (from oauth2client) (4.9)\n",
      "Requirement already satisfied: six>=1.6.1 in c:\\users\\imarticus\\anaconda3\\lib\\site-packages (from oauth2client) (1.16.0)\n",
      "Requirement already satisfied: cachetools<6.0,>=2.0.0 in c:\\users\\imarticus\\anaconda3\\lib\\site-packages (from google-auth>=1.12.0->gspread) (4.2.2)\n",
      "Requirement already satisfied: requests-oauthlib>=0.7.0 in c:\\users\\imarticus\\anaconda3\\lib\\site-packages (from google-auth-oauthlib>=0.4.1->gspread) (2.0.0)\n",
      "Requirement already satisfied: pyparsing!=3.0.0,!=3.0.1,!=3.0.2,!=3.0.3,<4,>=2.4.2 in c:\\users\\imarticus\\anaconda3\\lib\\site-packages (from httplib2>=0.9.1->oauth2client) (3.0.9)\n",
      "Requirement already satisfied: oauthlib>=3.0.0 in c:\\users\\imarticus\\anaconda3\\lib\\site-packages (from requests-oauthlib>=0.7.0->google-auth-oauthlib>=0.4.1->gspread) (3.2.2)\n",
      "Requirement already satisfied: requests>=2.0.0 in c:\\users\\imarticus\\anaconda3\\lib\\site-packages (from requests-oauthlib>=0.7.0->google-auth-oauthlib>=0.4.1->gspread) (2.31.0)\n",
      "Requirement already satisfied: charset-normalizer<4,>=2 in c:\\users\\imarticus\\anaconda3\\lib\\site-packages (from requests>=2.0.0->requests-oauthlib>=0.7.0->google-auth-oauthlib>=0.4.1->gspread) (2.0.4)\n",
      "Requirement already satisfied: idna<4,>=2.5 in c:\\users\\imarticus\\anaconda3\\lib\\site-packages (from requests>=2.0.0->requests-oauthlib>=0.7.0->google-auth-oauthlib>=0.4.1->gspread) (3.4)\n",
      "Requirement already satisfied: urllib3<3,>=1.21.1 in c:\\users\\imarticus\\anaconda3\\lib\\site-packages (from requests>=2.0.0->requests-oauthlib>=0.7.0->google-auth-oauthlib>=0.4.1->gspread) (2.0.7)\n",
      "Requirement already satisfied: certifi>=2017.4.17 in c:\\users\\imarticus\\anaconda3\\lib\\site-packages (from requests>=2.0.0->requests-oauthlib>=0.7.0->google-auth-oauthlib>=0.4.1->gspread) (2024.2.2)\n",
      "Note: you may need to restart the kernel to use updated packages.\n"
     ]
    }
   ],
   "source": [
    "pip install gspread oauth2client"
   ]
  },
  {
   "cell_type": "code",
   "execution_count": 4,
   "id": "3a13f78e-0629-4b97-a3c8-667b4335d404",
   "metadata": {},
   "outputs": [
    {
     "name": "stdout",
     "output_type": "stream",
     "text": [
      "Note: you may need to restart the kernel to use updated packages.\n"
     ]
    },
    {
     "name": "stderr",
     "output_type": "stream",
     "text": [
      "ERROR: Could not find a version that satisfies the requirement webdriver (from versions: none)\n",
      "ERROR: No matching distribution found for webdriver\n"
     ]
    }
   ],
   "source": [
    "pip install webdriver"
   ]
  },
  {
   "cell_type": "code",
   "execution_count": 5,
   "id": "50e0d00f-6190-43f8-b7bc-772ac3ae51e3",
   "metadata": {},
   "outputs": [],
   "source": [
    "import csv"
   ]
  },
  {
   "cell_type": "code",
   "execution_count": 6,
   "id": "8f4038aa-929e-4921-a052-9d858da72ef3",
   "metadata": {},
   "outputs": [
    {
     "ename": "NameError",
     "evalue": "name 'webdriver' is not defined",
     "output_type": "error",
     "traceback": [
      "\u001b[1;31m---------------------------------------------------------------------------\u001b[0m",
      "\u001b[1;31mNameError\u001b[0m                                 Traceback (most recent call last)",
      "Cell \u001b[1;32mIn[6], line 8\u001b[0m\n\u001b[0;32m      6\u001b[0m     \u001b[38;5;28;01mbreak\u001b[39;00m\n\u001b[0;32m      7\u001b[0m \u001b[38;5;28;01melse\u001b[39;00m:\n\u001b[1;32m----> 8\u001b[0m     driver \u001b[38;5;241m=\u001b[39m webdriver\u001b[38;5;241m.\u001b[39mChrome()\n\u001b[0;32m      9\u001b[0m     driver\u001b[38;5;241m.\u001b[39mmaximize_window()\n\u001b[0;32m     10\u001b[0m     driver\u001b[38;5;241m.\u001b[39mget(\u001b[38;5;124m'\u001b[39m\u001b[38;5;124mhttps://telephonycloud.co.in/portal/\u001b[39m\u001b[38;5;124m'\u001b[39m)\n",
      "\u001b[1;31mNameError\u001b[0m: name 'webdriver' is not defined"
     ]
    }
   ],
   "source": [
    "number_of_SIDs = 3\n",
    "i=number_of_SIDs\n",
    "\n",
    "while True:\n",
    "    if number_of_SIDs == 0:\n",
    "        break\n",
    "    else:\n",
    "        driver = webdriver.Chrome()\n",
    "        driver.maximize_window()\n",
    "        driver.get('https://telephonycloud.co.in/portal/')\n",
    "        time.sleep(3)\n",
    "        \n",
    "        loginBox = driver.find_element(By.XPATH,'//*[@id=\"username\"]')\n",
    "        loginBox.send_keys(\"9819823078\")\n",
    "        passBox = driver.find_element(By.XPATH,'//*[@id=\"password\"]') \n",
    "        passBox.send_keys(\"admin\")\n",
    "        time.sleep(2)\n",
    "        nextButton = driver.find_elements(By.XPATH,'//*[@id=\"loginSubmit\"]')\n",
    "        nextButton[0].click()\n",
    "        \n",
    "        time.sleep(2)\n",
    "        table = driver.find_element(By.ID,'serviceList')\n",
    "        rows = table.find_elements(By.CSS_SELECTOR, \"tbody tr\")\n",
    "        #SIDs = driver.find_elements(By.XPATH,'//*[@id=\"serviceList\"]/tbody')\n",
    "        \n",
    "        rows[i].click()\n",
    "        i=i-1\n",
    "        time.sleep(5)\n",
    "        driver.back() \n",
    "        time.sleep(4)"
   ]
  },
  {
   "cell_type": "code",
   "execution_count": 7,
   "id": "c25afeef-3842-42f1-8d90-dedb3ae5d426",
   "metadata": {},
   "outputs": [],
   "source": [
    "columns = [\"SID\",\"Name\",\"Blank1\",\"Blank2\",\"Advisor/Number\",\"Status\",\"Blank\"]\n",
    "\n",
    "df = pd.DataFrame(columns=columns)\n"
   ]
  },
  {
   "cell_type": "code",
   "execution_count": 8,
   "id": "80390db0-a165-4737-a61f-d65f65264eb2",
   "metadata": {},
   "outputs": [],
   "source": [
    "from selenium import webdriver\n",
    "from webdriver_manager.chrome import ChromeDriverManager\n",
    "from selenium.webdriver.common.by import By\n",
    "import time"
   ]
  },
  {
   "cell_type": "markdown",
   "id": "3e15fdad-2012-4543-bc05-8cf8eb611438",
   "metadata": {},
   "source": [
    "Update the number of SIDs in SparkTG"
   ]
  },
  {
   "cell_type": "code",
   "execution_count": 43,
   "id": "c3b1c4cc-a4b6-4cba-8ead-ff24d5f67746",
   "metadata": {},
   "outputs": [],
   "source": [
    "number_of_SIDs = 13"
   ]
  },
  {
   "cell_type": "code",
   "execution_count": 35,
   "id": "bda70cd4-d989-467d-b98a-ee61c1cd17a2",
   "metadata": {},
   "outputs": [],
   "source": [
    "def getinfo(table, SID, name, usage_df):\n",
    "    rows = table.find_elements(By.CSS_SELECTOR, \"tbody tr\")  \n",
    "    #print(len(rows))\n",
    "    usage_df = pd.DataFrame(columns=[\"SID\",\"Name/Number\",\"Usage Status\"])\n",
    "    # Iterate through each tr element\n",
    "    for row in rows:\n",
    "        temp = []\n",
    "        temp.append(SID)\n",
    "        temp.append(name)\n",
    "        temp.append(len(rows))\n",
    "        cells = row.find_elements(By.TAG_NAME, \"td\")        \n",
    "        for cell in cells:\n",
    "            temp.append(cell.text)            \n",
    "        print(temp)\n",
    "        new_usage_data = pd.DataFrame({'SID': [temp[0]],'Name/Number': [temp[5]] , 'Usage Status': [temp[-2]]})\n",
    "        usage_df = pd.concat([usage_df,new_usage_data],ignore_index=True)\n",
    "    return temp,usage_df"
   ]
  },
  {
   "cell_type": "markdown",
   "id": "f0001237-3db8-4f73-ab7e-d8db8bb50444",
   "metadata": {},
   "source": [
    "Code to get Usage Report and User Count"
   ]
  },
  {
   "cell_type": "code",
   "execution_count": 15,
   "id": "1e3b589f-8d71-4f45-808d-e97267b07ba7",
   "metadata": {},
   "outputs": [
    {
     "ename": "NoSuchWindowException",
     "evalue": "Message: no such window: target window already closed\nfrom unknown error: web view not found\n  (Session info: chrome=123.0.6312.105)\nStacktrace:\n\tGetHandleVerifier [0x00007FF7F2207072+63090]\n\t(No symbol) [0x00007FF7F2172CC2]\n\t(No symbol) [0x00007FF7F200EC65]\n\t(No symbol) [0x00007FF7F1FECA7C]\n\t(No symbol) [0x00007FF7F207D687]\n\t(No symbol) [0x00007FF7F2092AC1]\n\t(No symbol) [0x00007FF7F2076D83]\n\t(No symbol) [0x00007FF7F20483A8]\n\t(No symbol) [0x00007FF7F2049441]\n\tGetHandleVerifier [0x00007FF7F26025CD+4238285]\n\tGetHandleVerifier [0x00007FF7F263F72D+4488493]\n\tGetHandleVerifier [0x00007FF7F2637A0F+4456463]\n\tGetHandleVerifier [0x00007FF7F22E05B6+953270]\n\t(No symbol) [0x00007FF7F217E58F]\n\t(No symbol) [0x00007FF7F2179264]\n\t(No symbol) [0x00007FF7F217939B]\n\t(No symbol) [0x00007FF7F2169BD4]\n\tBaseThreadInitThunk [0x00007FF8F3C4257D+29]\n\tRtlUserThreadStart [0x00007FF8F46CAA58+40]\n",
     "output_type": "error",
     "traceback": [
      "\u001b[1;31m---------------------------------------------------------------------------\u001b[0m",
      "\u001b[1;31mNoSuchWindowException\u001b[0m                     Traceback (most recent call last)",
      "Cell \u001b[1;32mIn[15], line 11\u001b[0m\n\u001b[0;32m      8\u001b[0m driver\u001b[38;5;241m.\u001b[39mget(\u001b[38;5;124m'\u001b[39m\u001b[38;5;124mhttps://telephonycloud.co.in/portal/\u001b[39m\u001b[38;5;124m'\u001b[39m)\n\u001b[0;32m      9\u001b[0m time\u001b[38;5;241m.\u001b[39msleep(\u001b[38;5;241m2\u001b[39m)\n\u001b[1;32m---> 11\u001b[0m loginBox \u001b[38;5;241m=\u001b[39m driver\u001b[38;5;241m.\u001b[39mfind_element(By\u001b[38;5;241m.\u001b[39mXPATH,\u001b[38;5;124m'\u001b[39m\u001b[38;5;124m//*[@id=\u001b[39m\u001b[38;5;124m\"\u001b[39m\u001b[38;5;124musername\u001b[39m\u001b[38;5;124m\"\u001b[39m\u001b[38;5;124m]\u001b[39m\u001b[38;5;124m'\u001b[39m)\n\u001b[0;32m     12\u001b[0m loginBox\u001b[38;5;241m.\u001b[39msend_keys(\u001b[38;5;124m\"\u001b[39m\u001b[38;5;124m9819823078\u001b[39m\u001b[38;5;124m\"\u001b[39m)\n\u001b[0;32m     13\u001b[0m passBox \u001b[38;5;241m=\u001b[39m driver\u001b[38;5;241m.\u001b[39mfind_element(By\u001b[38;5;241m.\u001b[39mXPATH,\u001b[38;5;124m'\u001b[39m\u001b[38;5;124m//*[@id=\u001b[39m\u001b[38;5;124m\"\u001b[39m\u001b[38;5;124mpassword\u001b[39m\u001b[38;5;124m\"\u001b[39m\u001b[38;5;124m]\u001b[39m\u001b[38;5;124m'\u001b[39m) \n",
      "File \u001b[1;32m~\\anaconda3\\Lib\\site-packages\\selenium\\webdriver\\remote\\webdriver.py:741\u001b[0m, in \u001b[0;36mWebDriver.find_element\u001b[1;34m(self, by, value)\u001b[0m\n\u001b[0;32m    738\u001b[0m     by \u001b[38;5;241m=\u001b[39m By\u001b[38;5;241m.\u001b[39mCSS_SELECTOR\n\u001b[0;32m    739\u001b[0m     value \u001b[38;5;241m=\u001b[39m \u001b[38;5;124mf\u001b[39m\u001b[38;5;124m'\u001b[39m\u001b[38;5;124m[name=\u001b[39m\u001b[38;5;124m\"\u001b[39m\u001b[38;5;132;01m{\u001b[39;00mvalue\u001b[38;5;132;01m}\u001b[39;00m\u001b[38;5;124m\"\u001b[39m\u001b[38;5;124m]\u001b[39m\u001b[38;5;124m'\u001b[39m\n\u001b[1;32m--> 741\u001b[0m \u001b[38;5;28;01mreturn\u001b[39;00m \u001b[38;5;28mself\u001b[39m\u001b[38;5;241m.\u001b[39mexecute(Command\u001b[38;5;241m.\u001b[39mFIND_ELEMENT, {\u001b[38;5;124m\"\u001b[39m\u001b[38;5;124musing\u001b[39m\u001b[38;5;124m\"\u001b[39m: by, \u001b[38;5;124m\"\u001b[39m\u001b[38;5;124mvalue\u001b[39m\u001b[38;5;124m\"\u001b[39m: value})[\u001b[38;5;124m\"\u001b[39m\u001b[38;5;124mvalue\u001b[39m\u001b[38;5;124m\"\u001b[39m]\n",
      "File \u001b[1;32m~\\anaconda3\\Lib\\site-packages\\selenium\\webdriver\\remote\\webdriver.py:347\u001b[0m, in \u001b[0;36mWebDriver.execute\u001b[1;34m(self, driver_command, params)\u001b[0m\n\u001b[0;32m    345\u001b[0m response \u001b[38;5;241m=\u001b[39m \u001b[38;5;28mself\u001b[39m\u001b[38;5;241m.\u001b[39mcommand_executor\u001b[38;5;241m.\u001b[39mexecute(driver_command, params)\n\u001b[0;32m    346\u001b[0m \u001b[38;5;28;01mif\u001b[39;00m response:\n\u001b[1;32m--> 347\u001b[0m     \u001b[38;5;28mself\u001b[39m\u001b[38;5;241m.\u001b[39merror_handler\u001b[38;5;241m.\u001b[39mcheck_response(response)\n\u001b[0;32m    348\u001b[0m     response[\u001b[38;5;124m\"\u001b[39m\u001b[38;5;124mvalue\u001b[39m\u001b[38;5;124m\"\u001b[39m] \u001b[38;5;241m=\u001b[39m \u001b[38;5;28mself\u001b[39m\u001b[38;5;241m.\u001b[39m_unwrap_value(response\u001b[38;5;241m.\u001b[39mget(\u001b[38;5;124m\"\u001b[39m\u001b[38;5;124mvalue\u001b[39m\u001b[38;5;124m\"\u001b[39m, \u001b[38;5;28;01mNone\u001b[39;00m))\n\u001b[0;32m    349\u001b[0m     \u001b[38;5;28;01mreturn\u001b[39;00m response\n",
      "File \u001b[1;32m~\\anaconda3\\Lib\\site-packages\\selenium\\webdriver\\remote\\errorhandler.py:229\u001b[0m, in \u001b[0;36mErrorHandler.check_response\u001b[1;34m(self, response)\u001b[0m\n\u001b[0;32m    227\u001b[0m         alert_text \u001b[38;5;241m=\u001b[39m value[\u001b[38;5;124m\"\u001b[39m\u001b[38;5;124malert\u001b[39m\u001b[38;5;124m\"\u001b[39m]\u001b[38;5;241m.\u001b[39mget(\u001b[38;5;124m\"\u001b[39m\u001b[38;5;124mtext\u001b[39m\u001b[38;5;124m\"\u001b[39m)\n\u001b[0;32m    228\u001b[0m     \u001b[38;5;28;01mraise\u001b[39;00m exception_class(message, screen, stacktrace, alert_text)  \u001b[38;5;66;03m# type: ignore[call-arg]  # mypy is not smart enough here\u001b[39;00m\n\u001b[1;32m--> 229\u001b[0m \u001b[38;5;28;01mraise\u001b[39;00m exception_class(message, screen, stacktrace)\n",
      "\u001b[1;31mNoSuchWindowException\u001b[0m: Message: no such window: target window already closed\nfrom unknown error: web view not found\n  (Session info: chrome=123.0.6312.105)\nStacktrace:\n\tGetHandleVerifier [0x00007FF7F2207072+63090]\n\t(No symbol) [0x00007FF7F2172CC2]\n\t(No symbol) [0x00007FF7F200EC65]\n\t(No symbol) [0x00007FF7F1FECA7C]\n\t(No symbol) [0x00007FF7F207D687]\n\t(No symbol) [0x00007FF7F2092AC1]\n\t(No symbol) [0x00007FF7F2076D83]\n\t(No symbol) [0x00007FF7F20483A8]\n\t(No symbol) [0x00007FF7F2049441]\n\tGetHandleVerifier [0x00007FF7F26025CD+4238285]\n\tGetHandleVerifier [0x00007FF7F263F72D+4488493]\n\tGetHandleVerifier [0x00007FF7F2637A0F+4456463]\n\tGetHandleVerifier [0x00007FF7F22E05B6+953270]\n\t(No symbol) [0x00007FF7F217E58F]\n\t(No symbol) [0x00007FF7F2179264]\n\t(No symbol) [0x00007FF7F217939B]\n\t(No symbol) [0x00007FF7F2169BD4]\n\tBaseThreadInitThunk [0x00007FF8F3C4257D+29]\n\tRtlUserThreadStart [0x00007FF8F46CAA58+40]\n"
     ]
    }
   ],
   "source": [
    "i = number_of_SIDs\n",
    "users_df = pd.DataFrame(columns=[\"SID\",\"User Count\"])\n",
    "usage_df = pd.DataFrame(columns=[\"SID\",\"Name/Number\",\"Usage Status\"])\n",
    "    \n",
    "for _ in range(number_of_SIDs):\n",
    "    driver = webdriver.Chrome()\n",
    "    driver.maximize_window()\n",
    "    driver.get('https://telephonycloud.co.in/portal/')\n",
    "    time.sleep(2)\n",
    "    \n",
    "    loginBox = driver.find_element(By.XPATH,'//*[@id=\"username\"]')\n",
    "    loginBox.send_keys(\"9819823078\")\n",
    "    passBox = driver.find_element(By.XPATH,'//*[@id=\"password\"]') \n",
    "    passBox.send_keys(\"admin\")\n",
    "    time.sleep(2)\n",
    "    nextButton = driver.find_elements(By.XPATH,'//*[@id=\"loginSubmit\"]')\n",
    "    nextButton[0].click()\n",
    "    \n",
    "    time.sleep(2)\n",
    "    table = driver.find_element(By.ID,'serviceList')\n",
    "    rows = table.find_elements(By.CSS_SELECTOR, \"tbody tr\")\n",
    "    \n",
    "    # Perform the desired action on each row\n",
    "    cells = rows[i-1].find_elements(By.TAG_NAME, \"td\")\n",
    "    SID_name = cells[1].text\n",
    "    SID = cells[2].text\n",
    "    rows[i-1].click()\n",
    "    i=i-1\n",
    "    time.sleep(3)\n",
    "\n",
    "    #settings_button = driver.find_element(By.XPATH,'//*[@id=\"main\"]/div[2]/nav/ul/div/li[4]/a/sup')\n",
    "    \n",
    "    \n",
    "    advisorTable = driver.find_element(By.ID,'adoutput')\n",
    "    temp,usage_temp_df = getinfo(advisorTable,SID,SID_name,usage_df)\n",
    "    \n",
    "    new_user_data = pd.DataFrame({'SID': [temp[0]], 'User Count': [temp[2]]})\n",
    "    users_df = pd.concat([users_df,new_user_data],ignore_index=True)\n",
    "    usage_df = pd.concat([usage_df,usage_temp_df],ignore_index=True)\n",
    "    \n",
    "    #print(temp)\n",
    "usage_df.to_excel('Usage.xlsx', index=False)\n",
    "users_df.to_excel('Users.xlsx', index=False)\n",
    "driver.quit()"
   ]
  },
  {
   "cell_type": "markdown",
   "id": "f1788be0-4349-4fa1-89a9-63dc570d7127",
   "metadata": {},
   "source": [
    "Code to Extract data into their respective XLSX files on dekstop"
   ]
  },
  {
   "cell_type": "code",
   "execution_count": 11,
   "id": "8d99a58b-0ff2-4e77-a204-97b65a2503e8",
   "metadata": {},
   "outputs": [
    {
     "name": "stdout",
     "output_type": "stream",
     "text": [
      "    SID User Count\n",
      "0  1714          5\n",
      "1  1658          1\n",
      "2  1656         18\n",
      "     SID                                      Name/Number      Usage Status\n",
      "0   1714                      Admin\\n10171400/+9110171400   61 d : 17:38:07\n",
      "1   1714             Suhil Rehamn\\n10171401/+918715826000    1 d : 17:41:04\n",
      "2   1714             Astha Pandey\\n10171403/+919152205383          00:41:17\n",
      "3   1714              Ayush Kapil\\n10171404/+919152213691          15:15:09\n",
      "4   1714              Asad Ansari\\n10171405/+919152213710          00:23:01\n",
      "5   1658                      Admin\\n10165800/+9110165800                  \n",
      "6   1656          Michael Stephen\\n10165647/+918220971228   57 d : 16:43:55\n",
      "7   1656             Vipul Rathod\\n10165652/+917304927637          21:57:25\n",
      "8   1656                 Balaji K\\n10165648/+917358222455    7 d : 16:53:30\n",
      "9   1656                SHADOW_USER\\n10165600/+9110165600  179 d : 20:39:33\n",
      "10  1656           Priyanka Madan\\n10165603/+919910134713          16:42:55\n",
      "11  1656              Raj Kudekar\\n10165605/+918097469645   56 d : 17:21:06\n",
      "12  1656        Siddhesh Panicker\\n10165606/+919152204240    5 d : 16:20:54\n",
      "13  1656              yash Vasoya\\n10165607/+917718923297    4 d : 21:24:19\n",
      "14  1656              Vinay Mehta\\n10165609/+919152266210          15:04:29\n",
      "15  1656            Sindhu Dubasi\\n10165610/+914029320362          00:07:07\n",
      "16  1656         Raj Yellapantula\\n10165612/+919142732130    1 d : 15:28:07\n",
      "17  1656           Drishti Sharma\\n10165625/+919152210438          16:10:01\n",
      "18  1656  Kiran Kumar Devarakonda\\n10165635/+919321825558          16:15:48\n",
      "19  1656          Hamesh Mohandas\\n10165641/+917305794999          21:27:16\n",
      "20  1656            Sony Kumarapu\\n10165654/+919321825564          00:04:14\n",
      "21  1656                Nethra AR\\n10165655/+918217523856          14:36:43\n",
      "22  1656           Ashish Bharade\\n10165656/+919154301057    1 d : 21:13:37\n",
      "23  1656              Divya Joshi\\n10165657/+919315227216    7 d : 17:29:36\n"
     ]
    }
   ],
   "source": [
    "print(users_df)\n",
    "print(usage_df)\n",
    "usage_df.to_excel('Usage.xlsx', index=False)\n",
    "users_df.to_excel('Users.xlsx', index=False)\n"
   ]
  },
  {
   "cell_type": "markdown",
   "id": "a1850907-506e-42d6-93f6-7af3b00ee973",
   "metadata": {
    "collapsed": true,
    "jupyter": {
     "outputs_hidden": true
    },
    "scrolled": true
   },
   "source": [
    "Code to get all DIDs"
   ]
  },
  {
   "cell_type": "code",
   "execution_count": 44,
   "id": "7e9271b8-34ff-41d5-a00d-ddb8663c178e",
   "metadata": {
    "scrolled": true
   },
   "outputs": [
    {
     "name": "stdout",
     "output_type": "stream",
     "text": [
      "[<selenium.webdriver.remote.webelement.WebElement (session=\"9ed3758e167f7a7cd393dab20976469c\", element=\"f.F0084FCF443EE0E0133D8EC32CB8C994.d.FCF42E238F4E7B41BA02AB703C3A94F6.e.71\")>, <selenium.webdriver.remote.webelement.WebElement (session=\"9ed3758e167f7a7cd393dab20976469c\", element=\"f.F0084FCF443EE0E0133D8EC32CB8C994.d.FCF42E238F4E7B41BA02AB703C3A94F6.e.72\")>, <selenium.webdriver.remote.webelement.WebElement (session=\"9ed3758e167f7a7cd393dab20976469c\", element=\"f.F0084FCF443EE0E0133D8EC32CB8C994.d.FCF42E238F4E7B41BA02AB703C3A94F6.e.73\")>]\n",
      "61990663\n",
      "[<selenium.webdriver.remote.webelement.WebElement (session=\"a2e7b1d4eba6defa0a20d423e69894f8\", element=\"f.60F9B36156E4DAA0E65BD47A28153DB6.d.5F92922B70A452959677F3E62AC22A9D.e.71\")>, <selenium.webdriver.remote.webelement.WebElement (session=\"a2e7b1d4eba6defa0a20d423e69894f8\", element=\"f.60F9B36156E4DAA0E65BD47A28153DB6.d.5F92922B70A452959677F3E62AC22A9D.e.72\")>, <selenium.webdriver.remote.webelement.WebElement (session=\"a2e7b1d4eba6defa0a20d423e69894f8\", element=\"f.60F9B36156E4DAA0E65BD47A28153DB6.d.5F92922B70A452959677F3E62AC22A9D.e.73\")>]\n",
      "31412822\n",
      "31412821\n",
      "31412823\n",
      "31412824\n",
      "31412825\n",
      "31412818\n",
      "31412819\n",
      "31412826\n",
      "31412827\n",
      "31412828\n",
      "31412829\n",
      "31412830\n",
      "31412831\n",
      "31412832\n",
      "31412820\n",
      "[<selenium.webdriver.remote.webelement.WebElement (session=\"d5faec1df5722c8ed8293317229c7b96\", element=\"f.87D6F54D5F689BEA3B60496FE830B745.d.D26C56FD6BEACCBC2E713CECB02C2C3D.e.71\")>, <selenium.webdriver.remote.webelement.WebElement (session=\"d5faec1df5722c8ed8293317229c7b96\", element=\"f.87D6F54D5F689BEA3B60496FE830B745.d.D26C56FD6BEACCBC2E713CECB02C2C3D.e.72\")>, <selenium.webdriver.remote.webelement.WebElement (session=\"d5faec1df5722c8ed8293317229c7b96\", element=\"f.87D6F54D5F689BEA3B60496FE830B745.d.D26C56FD6BEACCBC2E713CECB02C2C3D.e.73\")>]\n",
      "31412735\n",
      "31412815\n",
      "31412816\n",
      "31412737\n",
      "31412817\n",
      "31412738\n",
      "31412814\n",
      "31412731\n",
      "31412730\n",
      "31412736\n",
      "[<selenium.webdriver.remote.webelement.WebElement (session=\"e07574dd60f54a09bb501f4c6f5a3da3\", element=\"f.BD81C7766CA47A1056641D6DDB8FE8F9.d.CB0A85E5472AD0F3E8D55648AEF93842.e.70\")>, <selenium.webdriver.remote.webelement.WebElement (session=\"e07574dd60f54a09bb501f4c6f5a3da3\", element=\"f.BD81C7766CA47A1056641D6DDB8FE8F9.d.CB0A85E5472AD0F3E8D55648AEF93842.e.71\")>, <selenium.webdriver.remote.webelement.WebElement (session=\"e07574dd60f54a09bb501f4c6f5a3da3\", element=\"f.BD81C7766CA47A1056641D6DDB8FE8F9.d.CB0A85E5472AD0F3E8D55648AEF93842.e.72\")>]\n",
      "35260927\n",
      "35260926\n",
      "31412793\n",
      "31412813\n",
      "31412794\n",
      "[<selenium.webdriver.remote.webelement.WebElement (session=\"968c4ca8c6df95a09d3ac4abc73daa8b\", element=\"f.B02032BF66A9D0D6788B98F603075178.d.D6CAA552DAF0408654F51C85A298DFC8.e.71\")>, <selenium.webdriver.remote.webelement.WebElement (session=\"968c4ca8c6df95a09d3ac4abc73daa8b\", element=\"f.B02032BF66A9D0D6788B98F603075178.d.D6CAA552DAF0408654F51C85A298DFC8.e.72\")>, <selenium.webdriver.remote.webelement.WebElement (session=\"968c4ca8c6df95a09d3ac4abc73daa8b\", element=\"f.B02032BF66A9D0D6788B98F603075178.d.D6CAA552DAF0408654F51C85A298DFC8.e.73\")>]\n",
      "35729690\n",
      "31412742\n",
      "31412752\n",
      "31412744\n",
      "31412746\n",
      "31412745\n",
      "31412809\n",
      "31412751\n",
      "31412748\n",
      "31412749\n",
      "31412810\n",
      "31412811\n",
      "31412812\n",
      "31412750\n",
      "31412747\n",
      "[<selenium.webdriver.remote.webelement.WebElement (session=\"95dbf57b03892441d9e0475a6295e2c3\", element=\"f.93E38AB03F309279D321603FC956D93E.d.E4F506823BCCA87789ABF9D098C81F4A.e.71\")>, <selenium.webdriver.remote.webelement.WebElement (session=\"95dbf57b03892441d9e0475a6295e2c3\", element=\"f.93E38AB03F309279D321603FC956D93E.d.E4F506823BCCA87789ABF9D098C81F4A.e.72\")>, <selenium.webdriver.remote.webelement.WebElement (session=\"95dbf57b03892441d9e0475a6295e2c3\", element=\"f.93E38AB03F309279D321603FC956D93E.d.E4F506823BCCA87789ABF9D098C81F4A.e.73\")>]\n",
      "68275174\n",
      "68275172\n",
      "68275173\n",
      "[<selenium.webdriver.remote.webelement.WebElement (session=\"a46129a8f9b0976af176af6bbb97394d\", element=\"f.0844F70CF5A4196348D8137DFBBADEA3.d.6D019628C089A3672DA1503DA0A7C4D8.e.71\")>, <selenium.webdriver.remote.webelement.WebElement (session=\"a46129a8f9b0976af176af6bbb97394d\", element=\"f.0844F70CF5A4196348D8137DFBBADEA3.d.6D019628C089A3672DA1503DA0A7C4D8.e.72\")>, <selenium.webdriver.remote.webelement.WebElement (session=\"a46129a8f9b0976af176af6bbb97394d\", element=\"f.0844F70CF5A4196348D8137DFBBADEA3.d.6D019628C089A3672DA1503DA0A7C4D8.e.73\")>]\n",
      "35260919\n",
      "35729881\n",
      "31412755\n",
      "31412760\n",
      "31412753\n",
      "31412759\n",
      "31412756\n",
      "31412754\n",
      "31412758\n",
      "31412757\n",
      "[<selenium.webdriver.remote.webelement.WebElement (session=\"840130c7a856cd7949a9cafb7b65b6b2\", element=\"f.EF2BEF3CDF1B09212DF609C8A17D2E02.d.E3BC57ED0676FF12F964EA1D0A8B62A0.e.71\")>, <selenium.webdriver.remote.webelement.WebElement (session=\"840130c7a856cd7949a9cafb7b65b6b2\", element=\"f.EF2BEF3CDF1B09212DF609C8A17D2E02.d.E3BC57ED0676FF12F964EA1D0A8B62A0.e.72\")>, <selenium.webdriver.remote.webelement.WebElement (session=\"840130c7a856cd7949a9cafb7b65b6b2\", element=\"f.EF2BEF3CDF1B09212DF609C8A17D2E02.d.E3BC57ED0676FF12F964EA1D0A8B62A0.e.73\")>]\n",
      "35260935\n",
      "35260818\n",
      "31412762\n",
      "31412766\n",
      "31412764\n",
      "31412765\n",
      "31412763\n",
      "31412761\n",
      "31412833\n",
      "31412807\n",
      "31412808\n",
      "31412834\n",
      "[<selenium.webdriver.remote.webelement.WebElement (session=\"2146d971e5df3a6792a1dfa591e8da98\", element=\"f.FE232558A41809361F1C988C184931B8.d.F931C1849ECDEAC81ED0EB7578D3CF82.e.71\")>, <selenium.webdriver.remote.webelement.WebElement (session=\"2146d971e5df3a6792a1dfa591e8da98\", element=\"f.FE232558A41809361F1C988C184931B8.d.F931C1849ECDEAC81ED0EB7578D3CF82.e.72\")>, <selenium.webdriver.remote.webelement.WebElement (session=\"2146d971e5df3a6792a1dfa591e8da98\", element=\"f.FE232558A41809361F1C988C184931B8.d.F931C1849ECDEAC81ED0EB7578D3CF82.e.73\")>]\n",
      "35260987\n",
      "31412769\n",
      "31412772\n",
      "31412770\n",
      "31412771\n",
      "31412768\n",
      "31412773\n",
      "31412774\n",
      "31412767\n",
      "31412775\n",
      "[<selenium.webdriver.remote.webelement.WebElement (session=\"09d2fd886082471369ae4127522bff72\", element=\"f.2994E4F222B7A896791EFB99EC613E4D.d.F0B20095C2CA917CD5D6ECFF20451EAF.e.71\")>, <selenium.webdriver.remote.webelement.WebElement (session=\"09d2fd886082471369ae4127522bff72\", element=\"f.2994E4F222B7A896791EFB99EC613E4D.d.F0B20095C2CA917CD5D6ECFF20451EAF.e.72\")>, <selenium.webdriver.remote.webelement.WebElement (session=\"09d2fd886082471369ae4127522bff72\", element=\"f.2994E4F222B7A896791EFB99EC613E4D.d.F0B20095C2CA917CD5D6ECFF20451EAF.e.73\")>]\n",
      "35260994\n",
      "35260995\n",
      "31412776\n",
      "31412777\n",
      "31412806\n",
      "[<selenium.webdriver.remote.webelement.WebElement (session=\"421cd564af2327dea1cba8c5076312e9\", element=\"f.D902EDDBDC8957072B140961873C8856.d.5C011C42C9A4241C4640D776BC7043AE.e.71\")>, <selenium.webdriver.remote.webelement.WebElement (session=\"421cd564af2327dea1cba8c5076312e9\", element=\"f.D902EDDBDC8957072B140961873C8856.d.5C011C42C9A4241C4640D776BC7043AE.e.72\")>, <selenium.webdriver.remote.webelement.WebElement (session=\"421cd564af2327dea1cba8c5076312e9\", element=\"f.D902EDDBDC8957072B140961873C8856.d.5C011C42C9A4241C4640D776BC7043AE.e.73\")>]\n"
     ]
    },
    {
     "ename": "ElementNotInteractableException",
     "evalue": "Message: element not interactable\n  (Session info: chrome=123.0.6312.105)\nStacktrace:\n\tGetHandleVerifier [0x00007FF7F2207072+63090]\n\t(No symbol) [0x00007FF7F2172CC2]\n\t(No symbol) [0x00007FF7F200EB1D]\n\t(No symbol) [0x00007FF7F2055D56]\n\t(No symbol) [0x00007FF7F204A708]\n\t(No symbol) [0x00007FF7F2076FDA]\n\t(No symbol) [0x00007FF7F204A00A]\n\t(No symbol) [0x00007FF7F20771F0]\n\t(No symbol) [0x00007FF7F2093412]\n\t(No symbol) [0x00007FF7F2076D83]\n\t(No symbol) [0x00007FF7F20483A8]\n\t(No symbol) [0x00007FF7F2049441]\n\tGetHandleVerifier [0x00007FF7F26025CD+4238285]\n\tGetHandleVerifier [0x00007FF7F263F72D+4488493]\n\tGetHandleVerifier [0x00007FF7F2637A0F+4456463]\n\tGetHandleVerifier [0x00007FF7F22E05B6+953270]\n\t(No symbol) [0x00007FF7F217E58F]\n\t(No symbol) [0x00007FF7F2179264]\n\t(No symbol) [0x00007FF7F217939B]\n\t(No symbol) [0x00007FF7F2169BD4]\n\tBaseThreadInitThunk [0x00007FF8F3C4257D+29]\n\tRtlUserThreadStart [0x00007FF8F46CAA58+40]\n",
     "output_type": "error",
     "traceback": [
      "\u001b[1;31m---------------------------------------------------------------------------\u001b[0m",
      "\u001b[1;31mElementNotInteractableException\u001b[0m           Traceback (most recent call last)",
      "Cell \u001b[1;32mIn[44], line 30\u001b[0m\n\u001b[0;32m     28\u001b[0m SID_name \u001b[38;5;241m=\u001b[39m cells[\u001b[38;5;241m1\u001b[39m]\u001b[38;5;241m.\u001b[39mtext\n\u001b[0;32m     29\u001b[0m SID \u001b[38;5;241m=\u001b[39m cells[\u001b[38;5;241m2\u001b[39m]\u001b[38;5;241m.\u001b[39mtext\n\u001b[1;32m---> 30\u001b[0m rows[_]\u001b[38;5;241m.\u001b[39mclick()\n\u001b[0;32m     31\u001b[0m i\u001b[38;5;241m=\u001b[39mi\u001b[38;5;241m-\u001b[39m\u001b[38;5;241m1\u001b[39m\n\u001b[0;32m     32\u001b[0m time\u001b[38;5;241m.\u001b[39msleep(\u001b[38;5;241m3\u001b[39m)\n",
      "File \u001b[1;32m~\\anaconda3\\Lib\\site-packages\\selenium\\webdriver\\remote\\webelement.py:94\u001b[0m, in \u001b[0;36mWebElement.click\u001b[1;34m(self)\u001b[0m\n\u001b[0;32m     92\u001b[0m \u001b[38;5;28;01mdef\u001b[39;00m \u001b[38;5;21mclick\u001b[39m(\u001b[38;5;28mself\u001b[39m) \u001b[38;5;241m-\u001b[39m\u001b[38;5;241m>\u001b[39m \u001b[38;5;28;01mNone\u001b[39;00m:\n\u001b[0;32m     93\u001b[0m \u001b[38;5;250m    \u001b[39m\u001b[38;5;124;03m\"\"\"Clicks the element.\"\"\"\u001b[39;00m\n\u001b[1;32m---> 94\u001b[0m     \u001b[38;5;28mself\u001b[39m\u001b[38;5;241m.\u001b[39m_execute(Command\u001b[38;5;241m.\u001b[39mCLICK_ELEMENT)\n",
      "File \u001b[1;32m~\\anaconda3\\Lib\\site-packages\\selenium\\webdriver\\remote\\webelement.py:395\u001b[0m, in \u001b[0;36mWebElement._execute\u001b[1;34m(self, command, params)\u001b[0m\n\u001b[0;32m    393\u001b[0m     params \u001b[38;5;241m=\u001b[39m {}\n\u001b[0;32m    394\u001b[0m params[\u001b[38;5;124m\"\u001b[39m\u001b[38;5;124mid\u001b[39m\u001b[38;5;124m\"\u001b[39m] \u001b[38;5;241m=\u001b[39m \u001b[38;5;28mself\u001b[39m\u001b[38;5;241m.\u001b[39m_id\n\u001b[1;32m--> 395\u001b[0m \u001b[38;5;28;01mreturn\u001b[39;00m \u001b[38;5;28mself\u001b[39m\u001b[38;5;241m.\u001b[39m_parent\u001b[38;5;241m.\u001b[39mexecute(command, params)\n",
      "File \u001b[1;32m~\\anaconda3\\Lib\\site-packages\\selenium\\webdriver\\remote\\webdriver.py:347\u001b[0m, in \u001b[0;36mWebDriver.execute\u001b[1;34m(self, driver_command, params)\u001b[0m\n\u001b[0;32m    345\u001b[0m response \u001b[38;5;241m=\u001b[39m \u001b[38;5;28mself\u001b[39m\u001b[38;5;241m.\u001b[39mcommand_executor\u001b[38;5;241m.\u001b[39mexecute(driver_command, params)\n\u001b[0;32m    346\u001b[0m \u001b[38;5;28;01mif\u001b[39;00m response:\n\u001b[1;32m--> 347\u001b[0m     \u001b[38;5;28mself\u001b[39m\u001b[38;5;241m.\u001b[39merror_handler\u001b[38;5;241m.\u001b[39mcheck_response(response)\n\u001b[0;32m    348\u001b[0m     response[\u001b[38;5;124m\"\u001b[39m\u001b[38;5;124mvalue\u001b[39m\u001b[38;5;124m\"\u001b[39m] \u001b[38;5;241m=\u001b[39m \u001b[38;5;28mself\u001b[39m\u001b[38;5;241m.\u001b[39m_unwrap_value(response\u001b[38;5;241m.\u001b[39mget(\u001b[38;5;124m\"\u001b[39m\u001b[38;5;124mvalue\u001b[39m\u001b[38;5;124m\"\u001b[39m, \u001b[38;5;28;01mNone\u001b[39;00m))\n\u001b[0;32m    349\u001b[0m     \u001b[38;5;28;01mreturn\u001b[39;00m response\n",
      "File \u001b[1;32m~\\anaconda3\\Lib\\site-packages\\selenium\\webdriver\\remote\\errorhandler.py:229\u001b[0m, in \u001b[0;36mErrorHandler.check_response\u001b[1;34m(self, response)\u001b[0m\n\u001b[0;32m    227\u001b[0m         alert_text \u001b[38;5;241m=\u001b[39m value[\u001b[38;5;124m\"\u001b[39m\u001b[38;5;124malert\u001b[39m\u001b[38;5;124m\"\u001b[39m]\u001b[38;5;241m.\u001b[39mget(\u001b[38;5;124m\"\u001b[39m\u001b[38;5;124mtext\u001b[39m\u001b[38;5;124m\"\u001b[39m)\n\u001b[0;32m    228\u001b[0m     \u001b[38;5;28;01mraise\u001b[39;00m exception_class(message, screen, stacktrace, alert_text)  \u001b[38;5;66;03m# type: ignore[call-arg]  # mypy is not smart enough here\u001b[39;00m\n\u001b[1;32m--> 229\u001b[0m \u001b[38;5;28;01mraise\u001b[39;00m exception_class(message, screen, stacktrace)\n",
      "\u001b[1;31mElementNotInteractableException\u001b[0m: Message: element not interactable\n  (Session info: chrome=123.0.6312.105)\nStacktrace:\n\tGetHandleVerifier [0x00007FF7F2207072+63090]\n\t(No symbol) [0x00007FF7F2172CC2]\n\t(No symbol) [0x00007FF7F200EB1D]\n\t(No symbol) [0x00007FF7F2055D56]\n\t(No symbol) [0x00007FF7F204A708]\n\t(No symbol) [0x00007FF7F2076FDA]\n\t(No symbol) [0x00007FF7F204A00A]\n\t(No symbol) [0x00007FF7F20771F0]\n\t(No symbol) [0x00007FF7F2093412]\n\t(No symbol) [0x00007FF7F2076D83]\n\t(No symbol) [0x00007FF7F20483A8]\n\t(No symbol) [0x00007FF7F2049441]\n\tGetHandleVerifier [0x00007FF7F26025CD+4238285]\n\tGetHandleVerifier [0x00007FF7F263F72D+4488493]\n\tGetHandleVerifier [0x00007FF7F2637A0F+4456463]\n\tGetHandleVerifier [0x00007FF7F22E05B6+953270]\n\t(No symbol) [0x00007FF7F217E58F]\n\t(No symbol) [0x00007FF7F2179264]\n\t(No symbol) [0x00007FF7F217939B]\n\t(No symbol) [0x00007FF7F2169BD4]\n\tBaseThreadInitThunk [0x00007FF8F3C4257D+29]\n\tRtlUserThreadStart [0x00007FF8F46CAA58+40]\n"
     ]
    }
   ],
   "source": [
    "from selenium.common.exceptions import NoSuchElementException\n",
    "from selenium.common.exceptions import ElementClickInterceptedException\n",
    "\n",
    "i = number_of_SIDs\n",
    "did_df = pd.DataFrame(columns=[\"SID\",\"DID\"])\n",
    "    \n",
    "for _ in range(number_of_SIDs):\n",
    "    driver = webdriver.Chrome()\n",
    "    driver.maximize_window()\n",
    "    driver.get('https://telephonycloud.co.in/portal/')\n",
    "    time.sleep(2)\n",
    "    loginBox = driver.find_element(By.XPATH,'//*[@id=\"username\"]')\n",
    "    loginBox.send_keys(\"9819823078\")\n",
    "    passBox = driver.find_element(By.XPATH,'//*[@id=\"password\"]') \n",
    "    passBox.send_keys(\"admin\")\n",
    "    time.sleep(2)\n",
    "    nextButton = driver.find_elements(By.XPATH,'//*[@id=\"loginSubmit\"]')\n",
    "    nextButton[0].click()\n",
    "    \n",
    "    time.sleep(2)\n",
    "    table = driver.find_element(By.ID,'serviceList')\n",
    "    rows = table.find_elements(By.CSS_SELECTOR, \"tbody tr\")\n",
    "    \n",
    "    # Perform the desired action on each row\n",
    "    #j = len(rows)-i-1\n",
    "    cells = rows[_].find_elements(By.TAG_NAME, \"td\")\n",
    "    print(cells)\n",
    "    SID_name = cells[1].text\n",
    "    SID = cells[2].text\n",
    "    rows[_].click()\n",
    "    i=i-1\n",
    "    time.sleep(3)\n",
    "\n",
    "    settings_button = driver.find_element(By.XPATH,'//*[@id=\"main\"]/div[2]/nav/ul/div/li[4]/a/sup')\n",
    "    settings_button.click()\n",
    "    time.sleep(3)\n",
    "\n",
    "    try:\n",
    "        clickBox = driver.find_element(By.ID, 'didList') \n",
    "        clickBox.click()\n",
    "        time.sleep(1)\n",
    "        numbers_table = driver.find_element(By.XPATH, '//*[@id=\"didDropdownList\"]/div[2]/table')\n",
    "        tbody_element = numbers_table.find_element(By.ID, \"didAgentDropdownList\")\n",
    "        # Find all <td> elements within the <tbody> element\n",
    "        td_elements = tbody_element.find_elements(By.TAG_NAME, \"td\")\n",
    "        # Iterate over each <td> element and print its text content\n",
    "        for td in td_elements:\n",
    "            new_did_data = pd.DataFrame({'SID': [SID], 'DID': [td.text]})\n",
    "            did_df = pd.concat([did_df,new_did_data],ignore_index=True)\n",
    "            print(td.text)\n",
    "    except ElementClickInterceptedException:\n",
    "        time.sleep(2)\n",
    "\n",
    "    \n",
    "\n"
   ]
  },
  {
   "cell_type": "markdown",
   "id": "9359c879-ab91-405d-b122-408936ee4a56",
   "metadata": {},
   "source": [
    "Code to save DID list on dekstop"
   ]
  },
  {
   "cell_type": "code",
   "execution_count": 46,
   "id": "66363a34-55ea-4d71-9aa4-1ff620748fca",
   "metadata": {},
   "outputs": [
    {
     "name": "stdout",
     "output_type": "stream",
     "text": [
      "     SID       DID\n",
      "0   1455  61990663\n",
      "1   1516  31412822\n",
      "2   1516  31412821\n",
      "3   1516  31412823\n",
      "4   1516  31412824\n",
      "..   ...       ...\n",
      "81  1541  35260994\n",
      "82  1541  35260995\n",
      "83  1541  31412776\n",
      "84  1541  31412777\n",
      "85  1541  31412806\n",
      "\n",
      "[86 rows x 2 columns]\n"
     ]
    }
   ],
   "source": [
    "print(did_df)\n",
    "did_df.to_excel('DID.xlsx', index=False)"
   ]
  },
  {
   "cell_type": "code",
   "execution_count": null,
   "id": "e9e2ce2a-d6b9-4a10-aa60-12a32beee797",
   "metadata": {},
   "outputs": [],
   "source": []
  }
 ],
 "metadata": {
  "kernelspec": {
   "display_name": "Python 3 (ipykernel)",
   "language": "python",
   "name": "python3"
  },
  "language_info": {
   "codemirror_mode": {
    "name": "ipython",
    "version": 3
   },
   "file_extension": ".py",
   "mimetype": "text/x-python",
   "name": "python",
   "nbconvert_exporter": "python",
   "pygments_lexer": "ipython3",
   "version": "3.11.7"
  }
 },
 "nbformat": 4,
 "nbformat_minor": 5
}
